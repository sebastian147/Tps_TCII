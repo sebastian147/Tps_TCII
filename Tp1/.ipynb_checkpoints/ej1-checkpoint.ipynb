{
 "cells": [
  {
   "cell_type": "markdown",
   "metadata": {},
   "source": [
    "\n",
    "<img src=\"ej1.png\"> "
   ]
  },
  {
   "cell_type": "markdown",
   "metadata": {},
   "source": [
    "Procedo a analizar el primer circuito\n",
    "$$\\frac{V_{2}}{V_{1}}=3000 \\quad Z_{e}=10K\\Omega$$\n",
    "$${V_{1}}={R_{1}}{I_{1}}=>\\frac{V_{1}}{R_{1}}={I_{1}}$$\n",
    "$$Z_{e}=10k\\Omega=\\frac{V_{i}}{I_{i}}=\\frac{V_{1}}{I_{1}}$$\n",
    "$$\\frac{V_{1}}{I_{1}}=\\frac{V_{1}}{\\frac{V_{1}}{R_{1}}}=R_{1}=10K\\Omega$$\n",
    "<br/>\n",
    "<br/>\n",
    "$${V_{2}}={R_{3}}{I_{3}}+{R_{4}}{I_{4}}={R_{3}}{I_{3}}+{R_{2}}{I_{2}}$$\n",
    "$${I_{4}}{R_{4}}={I_{2}}{R_{2}}$$\n",
    "$${I_{4}}=\\frac{{I_{2}}{R_{2}}}{R_{4}}$$\n",
    "\n",
    "$${I_{3}}={I_{2}}+{I_{4}}$$\n",
    "$${I_{2}}=-{I_{1}}$$\n",
    "$${V_{2}}={R_{3}}({I_{2}}+I_{4})+{R_{4}}I_{4}=>{V_{2}}=I_{2}[{R_{3}}(1+\\frac{R_{2}}{R_{4}})+{R_{4}}\\frac{1}{R_{2}{R_{4}}}]$$\n",
    "$${V_{2}}={R_{3}}(-\\frac{V_{1}}{R_{1}}+I_{4})+{R_{4}}{I_{4}}=>{V_{2}}={I_{4}}({R_{3}}+{R_{4}})+{R_{3}}(-\\frac{V_{1}}{R_{1}})$$\n",
    "$${V_{1}}=V_{2}=>V_{1}=I_{2}R_{2}$$\n",
    "$$\n",
    "\n",
    "<br/>\n",
    "<br/>\n",
    "\n",
    "Tengo que elegir un criterio para tomar el valor de las resistencias $R_{2}$ y $R_{3}$, opto por el criterio de que disipen la menor cantidad de energía, mientras mayor el valor de la resistencia menor el valor de la corriente que tiene que pasar para llegar a un mismo voltaje. Opto por un valor comercial, 10Mega$\\Omega$\n",
    "\n",
    "$$\\frac{V_{2}}{V_{1}}=\\frac{10K\\Omega.10M\\Omega+10K\\Omega.R_{4}+10M\\Omega.10M\\Omega+10M\\Omega.R_{4}-10M\\Omega.R_{4}}{10K\\Omega.R_{4}}=3000$$\n",
    "$$R_{4}=\\frac{10M\\Omega+R_{4}+1K\\Omega.10M\\Omega+1K\\Omega.R_{4}-1K\\Omega.R_{4}}{3000}$$\n",
    "$$R_{4}-\\frac{R_{4}+1K\\Omega.R_{4}-1K\\Omega.R_{4}}{3000}=\\frac{10M\\Omega+1K\\Omega.10M\\Omega}{3000}$$\n",
    "$$R_{4}-\\frac{R_{4}}{3000}=3,338M\\Omega$$\n",
    "\n",
    "Luego tenemos el valor de $R_{C}$ que al no afectar ni la transferencia ni la impedancia de entrada puedo darle el valor que desee, opto por lo 10Mega$\\Omega$ para que caiga menos corriente.\n"
   ]
  },
  {
   "cell_type": "markdown",
   "metadata": {},
   "source": [
    "Procedo a realizar la simulacion:\n",
    "<img src=\"ej1_a.png\"> "
   ]
  },
  {
   "cell_type": "markdown",
   "metadata": {},
   "source": [
    "Procedo a analizar el segundo circuito\n",
    "$$\\frac{V_{2}}{V_{1}}=3000 \\quad Z_{e}=10K\\Omega$$\n",
    "$${V_{1}}={R_{1}}{I_{1}}=>\\frac{V_{1}}{R_{1}}={I_{1}}$$\n",
    "$${V_{2}}={R_{2}}{I_{2}}=>\\frac{V_{2}}{R_{2}}={I_{2}}$$\n",
    "$${I_{2}}=-{I_{1}}$$\n",
    "$$\\frac{V_{1}}{R_{1}}=-\\frac{V_{2}}{R_{2}}=>\\frac{V_{2}}{V_{1}}=\\frac{R_{2}}{R_{1}}=3000 $$\n",
    "<br/>\n",
    "<br/>\n",
    "$$Z_{e}=10k\\Omega=\\frac{V_{i}}{I_{i}}=\\frac{V_{1}}{I_{1}}$$\n",
    "$$\\frac{V_{1}}{I_{1}}=\\frac{V_{1}}{\\frac{V_{1}}{R_{1}}}=R_{1}=10K\\Omega$$\n",
    "$$\\frac{R_{2}}{R_{1}}=3000=>{R_{2}}={R_{1}}.3000=30M\\Omega$$\n",
    "\n",
    "Luego tenemos el valor de $R_{3}$ que al no afectar ni la transferencia ni la impedancia de entrada puedo darle el valor que desee, opto por lo 10Mega$\\Omega$ para que caiga menos corriente.\n",
    "\n"
   ]
  },
  {
   "cell_type": "markdown",
   "metadata": {},
   "source": [
    "Procedo a realizar la simulacion:\n",
    "<img src=\"ej1_b.png\"> \n"
   ]
  }
 ],
 "metadata": {
  "kernelspec": {
   "display_name": "Python 3",
   "language": "python",
   "name": "python3"
  },
  "language_info": {
   "codemirror_mode": {
    "name": "ipython",
    "version": 3
   },
   "file_extension": ".py",
   "mimetype": "text/x-python",
   "name": "python",
   "nbconvert_exporter": "python",
   "pygments_lexer": "ipython3",
   "version": "3.8.5"
  }
 },
 "nbformat": 4,
 "nbformat_minor": 4
}
