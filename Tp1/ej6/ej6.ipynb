{
 "cells": [
  {
   "cell_type": "markdown",
   "metadata": {},
   "source": [
    "<img src=\"ej6.png\"> "
   ]
  },
  {
   "cell_type": "markdown",
   "metadata": {},
   "source": [
    "$$Z_{I}=\\frac{V_{I}}{I_{I}}$$\n",
    "$$I_{I}=I_{R_{1}}=\\frac{V_{R_{1}}}{Z_{R_{1}}}$$\n",
    "$$V_{I}=I_{R_{2}}Z_{L}=I_{R_{2}}Z_{L}+I_{R_{2}}Z_{R_{2}}+I_{R_{1}}Z_{R_{1}}$$\n",
    "$$I_{R_{2}}Z_{R_{2}}=-I_{R_{1}}Z_{R_{1}}$$\n",
    "$$I_{{R_{2}}}=\\frac{-I_{R_{1}}Z_{R_{1}}}{Z_{R_{2}}}$$\n",
    "$$V_{I}=\\frac{-I_{I}Z_{L}Z_{R_{1}}}{Z_{R_{2}}}$$\n",
    "$$\\frac{V_{I}}{I_{I}}=Z_{I}=-\\frac{Z_{L}Z_{R_{1}}}{Z_{R_{2}}}$$"
   ]
  }
 ],
 "metadata": {
  "kernelspec": {
   "display_name": "Python 3",
   "language": "python",
   "name": "python3"
  },
  "language_info": {
   "codemirror_mode": {
    "name": "ipython",
    "version": 3
   },
   "file_extension": ".py",
   "mimetype": "text/x-python",
   "name": "python",
   "nbconvert_exporter": "python",
   "pygments_lexer": "ipython3",
   "version": "3.8.5"
  }
 },
 "nbformat": 4,
 "nbformat_minor": 4
}
