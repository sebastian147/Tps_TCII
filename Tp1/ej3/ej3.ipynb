{
 "cells": [
  {
   "cell_type": "markdown",
   "metadata": {},
   "source": [
    "<img src=\"ej_3.png\"> "
   ]
  },
  {
   "cell_type": "markdown",
   "metadata": {},
   "source": [
    "Procedo a analizar el circuito a\n",
    "$${V_{I}}={Z_{I}}{I_{I}}=>\\frac{V_{I}}{I_{I}}={Z_{I}}$$\n",
    "$${I_{I}}=I_{R_{2}}+I_{C_{1}}$$\n",
    "$$I_{I}=\\frac{V_{I}}{Z_{I}}=\\frac{V_{C_{1}}}{Z_{C_{1}}}+\\frac{V_{R_{2}}}{Z_{R_{2}}}$$\n",
    "$$I_{C_{1}}=-I_{R_{1}}$$\n",
    "$$\\frac{V_{C_{1}}}{Z_{C_{1}}}=-\\frac{V_{R_{1}}}{Z_{R_{1}}}$$\n",
    "$${V_{R_{1}}}=-\\frac{V_{C_{1}}Z_{R_{1}}}{Z_{C_{1}}}$$\n",
    "$$V_{I}=V_{C_{1}}=V_{R_{1}}+V_{R_{2}}$$\n",
    "$$V_{C_{1}}-V_{R_{1}}=V_{R_{2}}$$\n",
    "$$V_{I}+\\frac{V_{I}Z_{R_{1}}}{Z_{C_{1}}}=V_{R_{2}}$$\n",
    "$$V_{R{2}}=V_{I}(\\frac{Z_{C_{1}}+Z_{R_{1}}}{Z_{C_{1}}})$$\n",
    "$$I_{I}=\\frac{V_{I}}{Z_{I}}=\\frac{V_{I}}{Z_{C_{1}}}+V_{I}(\\frac{Z_{C_{1}}+Z_{R_{1}}}{Z_{C_{1}}Z_{R_{2}}})$$\n",
    "$$I_{I}=V_{I}(\\frac{Z_{R_{2}}+Z_{C_{1}}+Z_{R_{1}}}{Z_{C_{1}}Z_{R_{2}}})$$\n",
    "$$\\frac{V_{I}}{I_{I}}=\\frac{Z_{C_{1}}Z_{R_{2}}}{Z_{R_{2}}+Z_{C_{1}}+Z_{R_{1}}}$$\n",
    "$$Z_{I}=\\frac{Z_{C_{1}}Z_{R_{2}}}{Z_{R_{2}}+Z_{C_{1}}+Z_{R_{1}}}$$"
   ]
  },
  {
   "cell_type": "markdown",
   "metadata": {},
   "source": [
    "Procedo a analizar el circuito b\n",
    "$${V_{I}}={Z_{I}}{I_{I}}=>\\frac{V_{I}}{I_{I}}={Z_{I}}$$\n",
    "$${I_{I}}=I_{R_{3}}+I_{R_{1}}$$\n",
    "$$I_{I}=\\frac{V_{I}}{Z_{I}}=\\frac{V_{R_{1}}}{Z_{R_{1}}}+\\frac{V_{R_{3}}}{Z_{R_{3}}}$$\n",
    "$$I_{R_{1}}=I_{C_{1}}-I_{R_{2}}\\quad ; \\quad I_{R_{2}} = 0$$\n",
    "$$V_{C_{1}}=V_{O}$$\n",
    "$$\\frac{V_{R_{1}}}{Z_{R_{1}}}=\\frac{V_{C_{1}}}{Z_{C_{1}}}$$\n",
    "$$V_{C_{1}}=\\frac{Z_{C_{1}}V_{R_{1}}}{Z_{R_{1}}}$$\n",
    "\n",
    "\n",
    "\n",
    "$$V_{I}=V_{C_{1}}+V_{R_{1}}=V_{R_{3}}+V_{C_{1}}$$\n",
    "$$V_{R_{1}}=V_{R_{3}}$$\n",
    "\n",
    "\n",
    "$$V_{I}=V_{R_{1}}+\\frac{Z_{C_{1}}V_{R_{1}}}{Z_{R_{1}}}$$\n",
    "$$V_{I}=V_{R_{1}}(1+\\frac{Z_{C_{1}}}{Z_{R_{1}}})$$\n",
    "\n",
    "\n",
    "$$I_{I}=\\frac{V_{R_{1}}}{Z_{R_{1}}}+\\frac{V_{R_{1}}}{Z_{R_{3}}}$$\n",
    "$$I_{I}=V_{R_{1}}(\\frac{1}{Z_{R_{1}}}+\\frac{1}{Z_{R_{3}}})$$\n",
    "\n",
    "\n",
    "$$\\frac{V_{I}}{I_{I}}=\\frac{V_{R_{1}}(1+\\frac{Z_{C_{1}}}{Z_{R_{1}}})}{V_{R_{1}}(\\frac{1}{Z_{R_{1}}}+\\frac{1}{Z_{R_{3}}})}$$\n",
    "$$\\frac{V_{I}}{I_{I}}=\\frac{(1+\\frac{Z_{C_{1}}}{Z_{R_{1}}})}{(\\frac{1}{Z_{R_{1}}}+\\frac{1}{Z_{R_{3}}})}$$\n",
    "$$\\frac{V_{I}}{I_{I}}=\\frac{(\\frac{Z_{R_{1}}+Z_{C_{1}}}{Z_{R_{1}}})}{(\\frac{Z_{R_{3}}+Z_{R_{1}}}{Z_{R_{1}}Z_{R_{3}}})}$$\n",
    "$$\\frac{V_{I}}{I_{I}}=(\\frac{Z_{R_{1}}+Z_{C_{1}}}{Z_{R_{1}}})(\\frac{Z_{R_{1}}Z_{R_{3}}}{Z_{R_{3}}+Z_{R_{1}}})$$\n",
    "$$\\frac{V_{I}}{I_{I}}=\\frac{Z_{R_{1}}Z_{R_{3}}+Z_{R_{3}}Z_{C_{1}}}{Z_{R_{3}}+Z_{R_{1}}}$$\n",
    "$$Z_{I}=\\frac{Z_{R_{1}}Z_{R_{3}}+Z_{R_{3}}Z_{C_{1}}}{Z_{R_{3}}+Z_{R_{1}}}$$"
   ]
  },
  {
   "cell_type": "markdown",
   "metadata": {},
   "source": [
    "Procedo a analizar el circuito c\n",
    "$${V_{I}}={Z_{I}}{I_{I}}=>\\frac{V_{I}}{I_{I}}={Z_{I}}$$\n",
    "$$V_{I}=V_{R_{1}}=V_{R_{2}}+V_{C_{1}}$$\n",
    "$$I_{R_{2}}=-I_{R_{1}}$$\n",
    "$$I_{R_{1}}Z_{R_{1}}=-I_{R_{1}}Z_{R_{2}}+I_{C_{1}}Z_{C_{1}}$$\n",
    "$$I_{C_{1}}=I_{I}$$\n",
    "$$I_{R_{1}}(Z_{R_{1}}+Z_{R_{2}})=I_{I}Z_{C_{1}}$$\n",
    "$$I_{R_{1}}=\\frac{I_{I}Z_{C_{1}}}{Z_{R_{1}}+Z_{R_{2}}}$$\n",
    "$$V_{I}=I_{R_{1}}Z_{R_{1}}$$\n",
    "$$V_{I}=\\frac{I_{I}Z_{C_{1}}Z_{R_{1}}}{Z_{R_{1}}+Z_{R_{2}}}$$\n",
    "$$\\frac{V_{I}}{I_{I}}=Z_{I}=\\frac{Z_{C_{1}}Z_{R_{1}}}{Z_{R_{1}}+Z_{R_{2}}}$$\n"
   ]
  }
 ],
 "metadata": {
  "kernelspec": {
   "display_name": "Python 3",
   "language": "python",
   "name": "python3"
  },
  "language_info": {
   "codemirror_mode": {
    "name": "ipython",
    "version": 3
   },
   "file_extension": ".py",
   "mimetype": "text/x-python",
   "name": "python",
   "nbconvert_exporter": "python",
   "pygments_lexer": "ipython3",
   "version": "3.8.5"
  }
 },
 "nbformat": 4,
 "nbformat_minor": 4
}
